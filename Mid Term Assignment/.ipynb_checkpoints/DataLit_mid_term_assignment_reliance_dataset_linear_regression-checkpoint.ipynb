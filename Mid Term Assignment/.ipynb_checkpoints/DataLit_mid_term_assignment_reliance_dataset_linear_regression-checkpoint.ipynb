{
 "cells": [
  {
   "cell_type": "markdown",
   "metadata": {},
   "source": [
    "Dataset- https://www.quandl.com/data/NSE/RELIANCE-Reliance-Industries-Limited\n",
    "\n",
    "Dataset time frame - March 25, 1998 - Jan 4, 2019"
   ]
  },
  {
   "cell_type": "markdown",
   "metadata": {},
   "source": [
    "# Data Lit Mid Term Assignment - Linear Regression | Reliance Stock Dataset"
   ]
  },
  {
   "cell_type": "code",
   "execution_count": 1,
   "metadata": {},
   "outputs": [],
   "source": [
    "# import important packages\n",
    "\n",
    "import numpy as np\n",
    "\n",
    "import pandas as pd\n",
    "\n",
    "import datetime\n",
    "\n",
    "from sklearn.linear_model import LinearRegression\n",
    "from sklearn.model_selection import train_test_split\n",
    "\n",
    "\n",
    "import matplotlib.pyplot as plt\n",
    "%matplotlib inline"
   ]
  },
  {
   "cell_type": "code",
   "execution_count": 2,
   "metadata": {},
   "outputs": [],
   "source": [
    "# Reading data\n",
    "\n",
    "data = pd.read_csv(\"NSE-RELIANCE.csv\")\n"
   ]
  },
  {
   "cell_type": "code",
   "execution_count": 3,
   "metadata": {},
   "outputs": [
    {
     "data": {
      "text/html": [
       "<div>\n",
       "<style scoped>\n",
       "    .dataframe tbody tr th:only-of-type {\n",
       "        vertical-align: middle;\n",
       "    }\n",
       "\n",
       "    .dataframe tbody tr th {\n",
       "        vertical-align: top;\n",
       "    }\n",
       "\n",
       "    .dataframe thead th {\n",
       "        text-align: right;\n",
       "    }\n",
       "</style>\n",
       "<table border=\"1\" class=\"dataframe\">\n",
       "  <thead>\n",
       "    <tr style=\"text-align: right;\">\n",
       "      <th></th>\n",
       "      <th>Date</th>\n",
       "      <th>Open</th>\n",
       "      <th>High</th>\n",
       "      <th>Low</th>\n",
       "      <th>Last</th>\n",
       "      <th>Close</th>\n",
       "      <th>Total Trade Quantity</th>\n",
       "      <th>Turnover (Lacs)</th>\n",
       "    </tr>\n",
       "  </thead>\n",
       "  <tbody>\n",
       "    <tr>\n",
       "      <th>0</th>\n",
       "      <td>04-01-2019</td>\n",
       "      <td>1097.40</td>\n",
       "      <td>1104.45</td>\n",
       "      <td>1081.1</td>\n",
       "      <td>1099.60</td>\n",
       "      <td>1098.65</td>\n",
       "      <td>8465141.0</td>\n",
       "      <td>92529.47</td>\n",
       "    </tr>\n",
       "    <tr>\n",
       "      <th>1</th>\n",
       "      <td>03-01-2019</td>\n",
       "      <td>1107.50</td>\n",
       "      <td>1114.60</td>\n",
       "      <td>1090.1</td>\n",
       "      <td>1090.30</td>\n",
       "      <td>1092.75</td>\n",
       "      <td>7446457.0</td>\n",
       "      <td>82012.92</td>\n",
       "    </tr>\n",
       "    <tr>\n",
       "      <th>2</th>\n",
       "      <td>02-01-2019</td>\n",
       "      <td>1114.50</td>\n",
       "      <td>1127.00</td>\n",
       "      <td>1101.0</td>\n",
       "      <td>1104.35</td>\n",
       "      <td>1106.40</td>\n",
       "      <td>7144970.0</td>\n",
       "      <td>79553.42</td>\n",
       "    </tr>\n",
       "    <tr>\n",
       "      <th>3</th>\n",
       "      <td>01-01-2019</td>\n",
       "      <td>1125.25</td>\n",
       "      <td>1127.30</td>\n",
       "      <td>1110.1</td>\n",
       "      <td>1120.50</td>\n",
       "      <td>1121.00</td>\n",
       "      <td>4455850.0</td>\n",
       "      <td>49861.29</td>\n",
       "    </tr>\n",
       "    <tr>\n",
       "      <th>4</th>\n",
       "      <td>31-12-2018</td>\n",
       "      <td>1130.95</td>\n",
       "      <td>1133.85</td>\n",
       "      <td>1116.2</td>\n",
       "      <td>1125.25</td>\n",
       "      <td>1121.25</td>\n",
       "      <td>7222817.0</td>\n",
       "      <td>81060.63</td>\n",
       "    </tr>\n",
       "  </tbody>\n",
       "</table>\n",
       "</div>"
      ],
      "text/plain": [
       "         Date     Open     High     Low     Last    Close  \\\n",
       "0  04-01-2019  1097.40  1104.45  1081.1  1099.60  1098.65   \n",
       "1  03-01-2019  1107.50  1114.60  1090.1  1090.30  1092.75   \n",
       "2  02-01-2019  1114.50  1127.00  1101.0  1104.35  1106.40   \n",
       "3  01-01-2019  1125.25  1127.30  1110.1  1120.50  1121.00   \n",
       "4  31-12-2018  1130.95  1133.85  1116.2  1125.25  1121.25   \n",
       "\n",
       "   Total Trade Quantity  Turnover (Lacs)  \n",
       "0             8465141.0         92529.47  \n",
       "1             7446457.0         82012.92  \n",
       "2             7144970.0         79553.42  \n",
       "3             4455850.0         49861.29  \n",
       "4             7222817.0         81060.63  "
      ]
     },
     "execution_count": 3,
     "metadata": {},
     "output_type": "execute_result"
    }
   ],
   "source": [
    "# display some header data\n",
    "\n",
    "data.head()"
   ]
  },
  {
   "cell_type": "code",
   "execution_count": 4,
   "metadata": {},
   "outputs": [
    {
     "name": "stdout",
     "output_type": "stream",
     "text": [
      "<class 'pandas.core.frame.DataFrame'>\n",
      "RangeIndex: 5184 entries, 0 to 5183\n",
      "Data columns (total 8 columns):\n",
      "Date                    5183 non-null object\n",
      "Open                    5183 non-null float64\n",
      "High                    5183 non-null float64\n",
      "Low                     5183 non-null float64\n",
      "Last                    5183 non-null float64\n",
      "Close                   5183 non-null float64\n",
      "Total Trade Quantity    5183 non-null float64\n",
      "Turnover (Lacs)         5183 non-null float64\n",
      "dtypes: float64(7), object(1)\n",
      "memory usage: 324.1+ KB\n"
     ]
    }
   ],
   "source": [
    "data.info()"
   ]
  },
  {
   "cell_type": "code",
   "execution_count": 5,
   "metadata": {},
   "outputs": [
    {
     "data": {
      "text/plain": [
       "Date                    1\n",
       "Open                    1\n",
       "High                    1\n",
       "Low                     1\n",
       "Last                    1\n",
       "Close                   1\n",
       "Total Trade Quantity    1\n",
       "Turnover (Lacs)         1\n",
       "dtype: int64"
      ]
     },
     "execution_count": 5,
     "metadata": {},
     "output_type": "execute_result"
    }
   ],
   "source": [
    "\n",
    "data.isnull().sum()"
   ]
  },
  {
   "cell_type": "code",
   "execution_count": 6,
   "metadata": {},
   "outputs": [
    {
     "data": {
      "text/plain": [
       "Date                    0\n",
       "Open                    0\n",
       "High                    0\n",
       "Low                     0\n",
       "Last                    0\n",
       "Close                   0\n",
       "Total Trade Quantity    0\n",
       "Turnover (Lacs)         0\n",
       "dtype: int64"
      ]
     },
     "execution_count": 6,
     "metadata": {},
     "output_type": "execute_result"
    }
   ],
   "source": [
    "\n",
    "data = data.dropna(how='any')\n",
    "data.isnull().sum()"
   ]
  },
  {
   "cell_type": "code",
   "execution_count": 7,
   "metadata": {},
   "outputs": [],
   "source": [
    "X = data.copy()\n",
    "# X = data.loc[:, ['Date', 'Open', 'High', 'Low', 'Last', 'Total Trade Quantity', 'Turnover (Lacs)']]\n",
    "# X.head()"
   ]
  },
  {
   "cell_type": "code",
   "execution_count": null,
   "metadata": {},
   "outputs": [],
   "source": []
  },
  {
   "cell_type": "code",
   "execution_count": 8,
   "metadata": {},
   "outputs": [
    {
     "data": {
      "text/html": [
       "<div>\n",
       "<style scoped>\n",
       "    .dataframe tbody tr th:only-of-type {\n",
       "        vertical-align: middle;\n",
       "    }\n",
       "\n",
       "    .dataframe tbody tr th {\n",
       "        vertical-align: top;\n",
       "    }\n",
       "\n",
       "    .dataframe thead th {\n",
       "        text-align: right;\n",
       "    }\n",
       "</style>\n",
       "<table border=\"1\" class=\"dataframe\">\n",
       "  <thead>\n",
       "    <tr style=\"text-align: right;\">\n",
       "      <th></th>\n",
       "      <th>Date</th>\n",
       "      <th>Open</th>\n",
       "      <th>High</th>\n",
       "      <th>Low</th>\n",
       "      <th>Last</th>\n",
       "      <th>Close</th>\n",
       "      <th>Total Trade Quantity</th>\n",
       "      <th>Turnover (Lacs)</th>\n",
       "    </tr>\n",
       "    <tr>\n",
       "      <th>Date</th>\n",
       "      <th></th>\n",
       "      <th></th>\n",
       "      <th></th>\n",
       "      <th></th>\n",
       "      <th></th>\n",
       "      <th></th>\n",
       "      <th></th>\n",
       "      <th></th>\n",
       "    </tr>\n",
       "  </thead>\n",
       "  <tbody>\n",
       "    <tr>\n",
       "      <th>2019-01-04</th>\n",
       "      <td>2019-01-04</td>\n",
       "      <td>1097.40</td>\n",
       "      <td>1104.45</td>\n",
       "      <td>1081.1</td>\n",
       "      <td>1099.60</td>\n",
       "      <td>1098.65</td>\n",
       "      <td>8465141.0</td>\n",
       "      <td>92529.47</td>\n",
       "    </tr>\n",
       "    <tr>\n",
       "      <th>2019-01-03</th>\n",
       "      <td>2019-01-03</td>\n",
       "      <td>1107.50</td>\n",
       "      <td>1114.60</td>\n",
       "      <td>1090.1</td>\n",
       "      <td>1090.30</td>\n",
       "      <td>1092.75</td>\n",
       "      <td>7446457.0</td>\n",
       "      <td>82012.92</td>\n",
       "    </tr>\n",
       "    <tr>\n",
       "      <th>2019-01-02</th>\n",
       "      <td>2019-01-02</td>\n",
       "      <td>1114.50</td>\n",
       "      <td>1127.00</td>\n",
       "      <td>1101.0</td>\n",
       "      <td>1104.35</td>\n",
       "      <td>1106.40</td>\n",
       "      <td>7144970.0</td>\n",
       "      <td>79553.42</td>\n",
       "    </tr>\n",
       "    <tr>\n",
       "      <th>2019-01-01</th>\n",
       "      <td>2019-01-01</td>\n",
       "      <td>1125.25</td>\n",
       "      <td>1127.30</td>\n",
       "      <td>1110.1</td>\n",
       "      <td>1120.50</td>\n",
       "      <td>1121.00</td>\n",
       "      <td>4455850.0</td>\n",
       "      <td>49861.29</td>\n",
       "    </tr>\n",
       "    <tr>\n",
       "      <th>2018-12-31</th>\n",
       "      <td>2018-12-31</td>\n",
       "      <td>1130.95</td>\n",
       "      <td>1133.85</td>\n",
       "      <td>1116.2</td>\n",
       "      <td>1125.25</td>\n",
       "      <td>1121.25</td>\n",
       "      <td>7222817.0</td>\n",
       "      <td>81060.63</td>\n",
       "    </tr>\n",
       "  </tbody>\n",
       "</table>\n",
       "</div>"
      ],
      "text/plain": [
       "                 Date     Open     High     Low     Last    Close  \\\n",
       "Date                                                                \n",
       "2019-01-04 2019-01-04  1097.40  1104.45  1081.1  1099.60  1098.65   \n",
       "2019-01-03 2019-01-03  1107.50  1114.60  1090.1  1090.30  1092.75   \n",
       "2019-01-02 2019-01-02  1114.50  1127.00  1101.0  1104.35  1106.40   \n",
       "2019-01-01 2019-01-01  1125.25  1127.30  1110.1  1120.50  1121.00   \n",
       "2018-12-31 2018-12-31  1130.95  1133.85  1116.2  1125.25  1121.25   \n",
       "\n",
       "            Total Trade Quantity  Turnover (Lacs)  \n",
       "Date                                               \n",
       "2019-01-04             8465141.0         92529.47  \n",
       "2019-01-03             7446457.0         82012.92  \n",
       "2019-01-02             7144970.0         79553.42  \n",
       "2019-01-01             4455850.0         49861.29  \n",
       "2018-12-31             7222817.0         81060.63  "
      ]
     },
     "execution_count": 8,
     "metadata": {},
     "output_type": "execute_result"
    }
   ],
   "source": [
    "#setting index as date\n",
    "data['Date'] = pd.to_datetime(data['Date'],format='%d-%m-%Y')\n",
    "data.index = data['Date']\n",
    "data.head()"
   ]
  },
  {
   "cell_type": "code",
   "execution_count": 9,
   "metadata": {},
   "outputs": [
    {
     "data": {
      "text/plain": [
       "(5183, 8)"
      ]
     },
     "execution_count": 9,
     "metadata": {},
     "output_type": "execute_result"
    }
   ],
   "source": [
    "data.shape"
   ]
  },
  {
   "cell_type": "code",
   "execution_count": 10,
   "metadata": {},
   "outputs": [
    {
     "data": {
      "image/png": "[encoded data removed]",
      "text/plain": [
       "<Figure size 1152x576 with 1 Axes>"
      ]
     },
     "metadata": {
      "needs_background": "light"
     },
     "output_type": "display_data"
    }
   ],
   "source": [
    "# plotting graph\n",
    "\n",
    "plt.figure(figsize=(16, 8))\n",
    "plt.xlabel(\"Time\")\n",
    "plt.ylabel(\"Closing stock value\")\n",
    "plt.title(\"Stock History\")\n",
    "plt.plot(data['Close'])\n",
    "plt.show()"
   ]
  },
  {
   "cell_type": "code",
   "execution_count": 11,
   "metadata": {},
   "outputs": [
    {
     "data": {
      "text/html": [
       "<div>\n",
       "<style scoped>\n",
       "    .dataframe tbody tr th:only-of-type {\n",
       "        vertical-align: middle;\n",
       "    }\n",
       "\n",
       "    .dataframe tbody tr th {\n",
       "        vertical-align: top;\n",
       "    }\n",
       "\n",
       "    .dataframe thead th {\n",
       "        text-align: right;\n",
       "    }\n",
       "</style>\n",
       "<table border=\"1\" class=\"dataframe\">\n",
       "  <thead>\n",
       "    <tr style=\"text-align: right;\">\n",
       "      <th></th>\n",
       "      <th>Date</th>\n",
       "      <th>Open</th>\n",
       "      <th>High</th>\n",
       "      <th>Low</th>\n",
       "      <th>Last</th>\n",
       "      <th>Close</th>\n",
       "      <th>Total Trade Quantity</th>\n",
       "      <th>Turnover (Lacs)</th>\n",
       "    </tr>\n",
       "  </thead>\n",
       "  <tbody>\n",
       "    <tr>\n",
       "      <th>0</th>\n",
       "      <td>04-01-2019</td>\n",
       "      <td>1097.40</td>\n",
       "      <td>1104.45</td>\n",
       "      <td>1081.1</td>\n",
       "      <td>1099.60</td>\n",
       "      <td>1098.65</td>\n",
       "      <td>8465141.0</td>\n",
       "      <td>92529.47</td>\n",
       "    </tr>\n",
       "    <tr>\n",
       "      <th>1</th>\n",
       "      <td>03-01-2019</td>\n",
       "      <td>1107.50</td>\n",
       "      <td>1114.60</td>\n",
       "      <td>1090.1</td>\n",
       "      <td>1090.30</td>\n",
       "      <td>1092.75</td>\n",
       "      <td>7446457.0</td>\n",
       "      <td>82012.92</td>\n",
       "    </tr>\n",
       "    <tr>\n",
       "      <th>2</th>\n",
       "      <td>02-01-2019</td>\n",
       "      <td>1114.50</td>\n",
       "      <td>1127.00</td>\n",
       "      <td>1101.0</td>\n",
       "      <td>1104.35</td>\n",
       "      <td>1106.40</td>\n",
       "      <td>7144970.0</td>\n",
       "      <td>79553.42</td>\n",
       "    </tr>\n",
       "    <tr>\n",
       "      <th>3</th>\n",
       "      <td>01-01-2019</td>\n",
       "      <td>1125.25</td>\n",
       "      <td>1127.30</td>\n",
       "      <td>1110.1</td>\n",
       "      <td>1120.50</td>\n",
       "      <td>1121.00</td>\n",
       "      <td>4455850.0</td>\n",
       "      <td>49861.29</td>\n",
       "    </tr>\n",
       "    <tr>\n",
       "      <th>4</th>\n",
       "      <td>31-12-2018</td>\n",
       "      <td>1130.95</td>\n",
       "      <td>1133.85</td>\n",
       "      <td>1116.2</td>\n",
       "      <td>1125.25</td>\n",
       "      <td>1121.25</td>\n",
       "      <td>7222817.0</td>\n",
       "      <td>81060.63</td>\n",
       "    </tr>\n",
       "  </tbody>\n",
       "</table>\n",
       "</div>"
      ],
      "text/plain": [
       "         Date     Open     High     Low     Last    Close  \\\n",
       "0  04-01-2019  1097.40  1104.45  1081.1  1099.60  1098.65   \n",
       "1  03-01-2019  1107.50  1114.60  1090.1  1090.30  1092.75   \n",
       "2  02-01-2019  1114.50  1127.00  1101.0  1104.35  1106.40   \n",
       "3  01-01-2019  1125.25  1127.30  1110.1  1120.50  1121.00   \n",
       "4  31-12-2018  1130.95  1133.85  1116.2  1125.25  1121.25   \n",
       "\n",
       "   Total Trade Quantity  Turnover (Lacs)  \n",
       "0             8465141.0         92529.47  \n",
       "1             7446457.0         82012.92  \n",
       "2             7144970.0         79553.42  \n",
       "3             4455850.0         49861.29  \n",
       "4             7222817.0         81060.63  "
      ]
     },
     "execution_count": 11,
     "metadata": {},
     "output_type": "execute_result"
    }
   ],
   "source": [
    "X.head()"
   ]
  },
  {
   "cell_type": "code",
   "execution_count": 12,
   "metadata": {},
   "outputs": [
    {
     "data": {
      "text/html": [
       "<div>\n",
       "<style scoped>\n",
       "    .dataframe tbody tr th:only-of-type {\n",
       "        vertical-align: middle;\n",
       "    }\n",
       "\n",
       "    .dataframe tbody tr th {\n",
       "        vertical-align: top;\n",
       "    }\n",
       "\n",
       "    .dataframe thead th {\n",
       "        text-align: right;\n",
       "    }\n",
       "</style>\n",
       "<table border=\"1\" class=\"dataframe\">\n",
       "  <thead>\n",
       "    <tr style=\"text-align: right;\">\n",
       "      <th></th>\n",
       "      <th>Date</th>\n",
       "      <th>Open</th>\n",
       "      <th>High</th>\n",
       "      <th>Low</th>\n",
       "      <th>Last</th>\n",
       "      <th>Close</th>\n",
       "      <th>Total Trade Quantity</th>\n",
       "      <th>Turnover (Lacs)</th>\n",
       "    </tr>\n",
       "    <tr>\n",
       "      <th>Date</th>\n",
       "      <th></th>\n",
       "      <th></th>\n",
       "      <th></th>\n",
       "      <th></th>\n",
       "      <th></th>\n",
       "      <th></th>\n",
       "      <th></th>\n",
       "      <th></th>\n",
       "    </tr>\n",
       "  </thead>\n",
       "  <tbody>\n",
       "    <tr>\n",
       "      <th>2019-01-04</th>\n",
       "      <td>2019-01-04</td>\n",
       "      <td>1097.40</td>\n",
       "      <td>1104.45</td>\n",
       "      <td>1081.1</td>\n",
       "      <td>1099.60</td>\n",
       "      <td>1098.65</td>\n",
       "      <td>8465141.0</td>\n",
       "      <td>92529.47</td>\n",
       "    </tr>\n",
       "    <tr>\n",
       "      <th>2019-01-03</th>\n",
       "      <td>2019-01-03</td>\n",
       "      <td>1107.50</td>\n",
       "      <td>1114.60</td>\n",
       "      <td>1090.1</td>\n",
       "      <td>1090.30</td>\n",
       "      <td>1092.75</td>\n",
       "      <td>7446457.0</td>\n",
       "      <td>82012.92</td>\n",
       "    </tr>\n",
       "    <tr>\n",
       "      <th>2019-01-02</th>\n",
       "      <td>2019-01-02</td>\n",
       "      <td>1114.50</td>\n",
       "      <td>1127.00</td>\n",
       "      <td>1101.0</td>\n",
       "      <td>1104.35</td>\n",
       "      <td>1106.40</td>\n",
       "      <td>7144970.0</td>\n",
       "      <td>79553.42</td>\n",
       "    </tr>\n",
       "    <tr>\n",
       "      <th>2019-01-01</th>\n",
       "      <td>2019-01-01</td>\n",
       "      <td>1125.25</td>\n",
       "      <td>1127.30</td>\n",
       "      <td>1110.1</td>\n",
       "      <td>1120.50</td>\n",
       "      <td>1121.00</td>\n",
       "      <td>4455850.0</td>\n",
       "      <td>49861.29</td>\n",
       "    </tr>\n",
       "    <tr>\n",
       "      <th>2018-12-31</th>\n",
       "      <td>2018-12-31</td>\n",
       "      <td>1130.95</td>\n",
       "      <td>1133.85</td>\n",
       "      <td>1116.2</td>\n",
       "      <td>1125.25</td>\n",
       "      <td>1121.25</td>\n",
       "      <td>7222817.0</td>\n",
       "      <td>81060.63</td>\n",
       "    </tr>\n",
       "  </tbody>\n",
       "</table>\n",
       "</div>"
      ],
      "text/plain": [
       "                 Date     Open     High     Low     Last    Close  \\\n",
       "Date                                                                \n",
       "2019-01-04 2019-01-04  1097.40  1104.45  1081.1  1099.60  1098.65   \n",
       "2019-01-03 2019-01-03  1107.50  1114.60  1090.1  1090.30  1092.75   \n",
       "2019-01-02 2019-01-02  1114.50  1127.00  1101.0  1104.35  1106.40   \n",
       "2019-01-01 2019-01-01  1125.25  1127.30  1110.1  1120.50  1121.00   \n",
       "2018-12-31 2018-12-31  1130.95  1133.85  1116.2  1125.25  1121.25   \n",
       "\n",
       "            Total Trade Quantity  Turnover (Lacs)  \n",
       "Date                                               \n",
       "2019-01-04             8465141.0         92529.47  \n",
       "2019-01-03             7446457.0         82012.92  \n",
       "2019-01-02             7144970.0         79553.42  \n",
       "2019-01-01             4455850.0         49861.29  \n",
       "2018-12-31             7222817.0         81060.63  "
      ]
     },
     "execution_count": 12,
     "metadata": {},
     "output_type": "execute_result"
    }
   ],
   "source": [
    "X['Date'] = pd.to_datetime(X['Date'],format='%d-%m-%Y')\n",
    "X.index = X['Date']\n",
    "X.head()"
   ]
  },
  {
   "cell_type": "code",
   "execution_count": 13,
   "metadata": {},
   "outputs": [
    {
     "data": {
      "text/html": [
       "<div>\n",
       "<style scoped>\n",
       "    .dataframe tbody tr th:only-of-type {\n",
       "        vertical-align: middle;\n",
       "    }\n",
       "\n",
       "    .dataframe tbody tr th {\n",
       "        vertical-align: top;\n",
       "    }\n",
       "\n",
       "    .dataframe thead th {\n",
       "        text-align: right;\n",
       "    }\n",
       "</style>\n",
       "<table border=\"1\" class=\"dataframe\">\n",
       "  <thead>\n",
       "    <tr style=\"text-align: right;\">\n",
       "      <th></th>\n",
       "      <th>Date</th>\n",
       "      <th>Open</th>\n",
       "      <th>High</th>\n",
       "      <th>Low</th>\n",
       "      <th>Last</th>\n",
       "      <th>Close</th>\n",
       "      <th>Total Trade Quantity</th>\n",
       "      <th>Turnover (Lacs)</th>\n",
       "    </tr>\n",
       "    <tr>\n",
       "      <th>Date</th>\n",
       "      <th></th>\n",
       "      <th></th>\n",
       "      <th></th>\n",
       "      <th></th>\n",
       "      <th></th>\n",
       "      <th></th>\n",
       "      <th></th>\n",
       "      <th></th>\n",
       "    </tr>\n",
       "  </thead>\n",
       "  <tbody>\n",
       "    <tr>\n",
       "      <th>1998-03-23</th>\n",
       "      <td>1998-03-23</td>\n",
       "      <td>178.50</td>\n",
       "      <td>181.00</td>\n",
       "      <td>178.50</td>\n",
       "      <td>180.20</td>\n",
       "      <td>180.20</td>\n",
       "      <td>1758700.0</td>\n",
       "      <td>3165.37</td>\n",
       "    </tr>\n",
       "    <tr>\n",
       "      <th>1998-03-24</th>\n",
       "      <td>1998-03-24</td>\n",
       "      <td>184.00</td>\n",
       "      <td>184.90</td>\n",
       "      <td>177.50</td>\n",
       "      <td>178.00</td>\n",
       "      <td>178.70</td>\n",
       "      <td>8838650.0</td>\n",
       "      <td>15951.78</td>\n",
       "    </tr>\n",
       "    <tr>\n",
       "      <th>1998-03-25</th>\n",
       "      <td>1998-03-25</td>\n",
       "      <td>181.50</td>\n",
       "      <td>184.60</td>\n",
       "      <td>179.00</td>\n",
       "      <td>183.50</td>\n",
       "      <td>183.85</td>\n",
       "      <td>8936250.0</td>\n",
       "      <td>16292.18</td>\n",
       "    </tr>\n",
       "    <tr>\n",
       "      <th>1998-03-26</th>\n",
       "      <td>1998-03-26</td>\n",
       "      <td>183.85</td>\n",
       "      <td>184.25</td>\n",
       "      <td>178.75</td>\n",
       "      <td>179.25</td>\n",
       "      <td>179.45</td>\n",
       "      <td>6915150.0</td>\n",
       "      <td>12542.00</td>\n",
       "    </tr>\n",
       "    <tr>\n",
       "      <th>1998-03-27</th>\n",
       "      <td>1998-03-27</td>\n",
       "      <td>179.10</td>\n",
       "      <td>180.75</td>\n",
       "      <td>178.25</td>\n",
       "      <td>180.70</td>\n",
       "      <td>180.40</td>\n",
       "      <td>6087650.0</td>\n",
       "      <td>10941.81</td>\n",
       "    </tr>\n",
       "  </tbody>\n",
       "</table>\n",
       "</div>"
      ],
      "text/plain": [
       "                 Date    Open    High     Low    Last   Close  \\\n",
       "Date                                                            \n",
       "1998-03-23 1998-03-23  178.50  181.00  178.50  180.20  180.20   \n",
       "1998-03-24 1998-03-24  184.00  184.90  177.50  178.00  178.70   \n",
       "1998-03-25 1998-03-25  181.50  184.60  179.00  183.50  183.85   \n",
       "1998-03-26 1998-03-26  183.85  184.25  178.75  179.25  179.45   \n",
       "1998-03-27 1998-03-27  179.10  180.75  178.25  180.70  180.40   \n",
       "\n",
       "            Total Trade Quantity  Turnover (Lacs)  \n",
       "Date                                               \n",
       "1998-03-23             1758700.0          3165.37  \n",
       "1998-03-24             8838650.0         15951.78  \n",
       "1998-03-25             8936250.0         16292.18  \n",
       "1998-03-26             6915150.0         12542.00  \n",
       "1998-03-27             6087650.0         10941.81  "
      ]
     },
     "execution_count": 13,
     "metadata": {},
     "output_type": "execute_result"
    }
   ],
   "source": [
    "# sort the data\n",
    "\n",
    "X = X.sort_index(ascending=True, axis=0)\n",
    "X.head()"
   ]
  },
  {
   "cell_type": "code",
   "execution_count": 14,
   "metadata": {},
   "outputs": [
    {
     "data": {
      "text/plain": [
       "Date\n",
       "1998-03-23    180.20\n",
       "1998-03-24    178.70\n",
       "1998-03-25    183.85\n",
       "1998-03-26    179.45\n",
       "1998-03-27    180.40\n",
       "Name: Close, dtype: float64"
      ]
     },
     "execution_count": 14,
     "metadata": {},
     "output_type": "execute_result"
    }
   ],
   "source": [
    "target = X['Close']\n",
    "X.drop(axis=1, columns=['Close'], inplace=True)\n",
    "target.head()"
   ]
  },
  {
   "cell_type": "code",
   "execution_count": 15,
   "metadata": {},
   "outputs": [],
   "source": [
    "# creating day and month feature\n",
    "\n",
    "X['day'] = pd.DatetimeIndex(X['Date']).day\n",
    "X['month'] = pd.DatetimeIndex(X['Date']).month\n",
    "# X['year'] = pd.DatetimeIndex(X['Date']).year # year feature has very bad effect\n",
    "X.drop(axis=1, columns=['Date'], inplace=True)\n",
    "X.drop(axis=1, columns=['Open'], inplace=True)\n",
    "X.drop(axis=1, columns=['High'], inplace=True)\n",
    "X.drop(axis=1, columns=['Low'], inplace=True)\n",
    "X.drop(axis=1, columns=['Last'], inplace=True)\n",
    "X.drop(axis=1, columns=['Total Trade Quantity'], inplace=True)\n",
    "X.drop(axis=1, columns=['Turnover (Lacs)'], inplace=True)"
   ]
  },
  {
   "cell_type": "code",
   "execution_count": 16,
   "metadata": {},
   "outputs": [
    {
     "data": {
      "text/html": [
       "<div>\n",
       "<style scoped>\n",
       "    .dataframe tbody tr th:only-of-type {\n",
       "        vertical-align: middle;\n",
       "    }\n",
       "\n",
       "    .dataframe tbody tr th {\n",
       "        vertical-align: top;\n",
       "    }\n",
       "\n",
       "    .dataframe thead th {\n",
       "        text-align: right;\n",
       "    }\n",
       "</style>\n",
       "<table border=\"1\" class=\"dataframe\">\n",
       "  <thead>\n",
       "    <tr style=\"text-align: right;\">\n",
       "      <th></th>\n",
       "      <th>day</th>\n",
       "      <th>month</th>\n",
       "    </tr>\n",
       "    <tr>\n",
       "      <th>Date</th>\n",
       "      <th></th>\n",
       "      <th></th>\n",
       "    </tr>\n",
       "  </thead>\n",
       "  <tbody>\n",
       "    <tr>\n",
       "      <th>1998-03-23</th>\n",
       "      <td>23</td>\n",
       "      <td>3</td>\n",
       "    </tr>\n",
       "    <tr>\n",
       "      <th>1998-03-24</th>\n",
       "      <td>24</td>\n",
       "      <td>3</td>\n",
       "    </tr>\n",
       "    <tr>\n",
       "      <th>1998-03-25</th>\n",
       "      <td>25</td>\n",
       "      <td>3</td>\n",
       "    </tr>\n",
       "    <tr>\n",
       "      <th>1998-03-26</th>\n",
       "      <td>26</td>\n",
       "      <td>3</td>\n",
       "    </tr>\n",
       "    <tr>\n",
       "      <th>1998-03-27</th>\n",
       "      <td>27</td>\n",
       "      <td>3</td>\n",
       "    </tr>\n",
       "  </tbody>\n",
       "</table>\n",
       "</div>"
      ],
      "text/plain": [
       "            day  month\n",
       "Date                  \n",
       "1998-03-23   23      3\n",
       "1998-03-24   24      3\n",
       "1998-03-25   25      3\n",
       "1998-03-26   26      3\n",
       "1998-03-27   27      3"
      ]
     },
     "execution_count": 16,
     "metadata": {},
     "output_type": "execute_result"
    }
   ],
   "source": [
    "X.head()"
   ]
  },
  {
   "cell_type": "code",
   "execution_count": 17,
   "metadata": {},
   "outputs": [],
   "source": [
    "# Splitting data into train and test\n",
    "\n",
    "X_train = X[:4143]\n",
    "X_test = X[4143:]\n",
    "y_train = target[:4143]\n",
    "y_test = target[4143:]"
   ]
  },
  {
   "cell_type": "code",
   "execution_count": 18,
   "metadata": {},
   "outputs": [
    {
     "data": {
      "text/plain": [
       "((4143, 2), (1040, 2), (4143,), (1040,))"
      ]
     },
     "execution_count": 18,
     "metadata": {},
     "output_type": "execute_result"
    }
   ],
   "source": [
    "X_train.shape, X_test.shape, y_train.shape, y_test.shape"
   ]
  },
  {
   "cell_type": "code",
   "execution_count": null,
   "metadata": {},
   "outputs": [],
   "source": []
  },
  {
   "cell_type": "code",
   "execution_count": 19,
   "metadata": {},
   "outputs": [],
   "source": [
    "# training linear regression model\n",
    "\n",
    "lreg = LinearRegression()"
   ]
  },
  {
   "cell_type": "code",
   "execution_count": 20,
   "metadata": {},
   "outputs": [
    {
     "data": {
      "text/plain": [
       "LinearRegression(copy_X=True, fit_intercept=True, n_jobs=None,\n",
       "         normalize=False)"
      ]
     },
     "execution_count": 20,
     "metadata": {},
     "output_type": "execute_result"
    }
   ],
   "source": [
    "lreg.fit(X_train, y_train)"
   ]
  },
  {
   "cell_type": "code",
   "execution_count": 21,
   "metadata": {},
   "outputs": [],
   "source": [
    "predictions = lreg.predict(X_test)"
   ]
  },
  {
   "cell_type": "code",
   "execution_count": 22,
   "metadata": {},
   "outputs": [
    {
     "data": {
      "text/plain": [
       "270.5698293213806"
      ]
     },
     "execution_count": 22,
     "metadata": {},
     "output_type": "execute_result"
    }
   ],
   "source": [
    "rms = np.sqrt(np.mean(np.power((np.array(y_test)-np.array(predictions)),2)))\n",
    "rms"
   ]
  },
  {
   "cell_type": "code",
   "execution_count": 23,
   "metadata": {},
   "outputs": [],
   "source": [
    "plot_train = pd.DataFrame(y_train)\n",
    "\n",
    "plot_test = pd.DataFrame(y_test)"
   ]
  },
  {
   "cell_type": "code",
   "execution_count": 24,
   "metadata": {},
   "outputs": [],
   "source": [
    "plot_test['Predictions'] = predictions"
   ]
  },
  {
   "cell_type": "code",
   "execution_count": null,
   "metadata": {},
   "outputs": [],
   "source": []
  },
  {
   "cell_type": "code",
   "execution_count": 25,
   "metadata": {},
   "outputs": [
    {
     "data": {
      "image/png": "[encoded data removed]",
      "text/plain": [
       "<Figure size 1152x576 with 1 Axes>"
      ]
     },
     "metadata": {
      "needs_background": "light"
     },
     "output_type": "display_data"
    }
   ],
   "source": [
    "plt.figure(figsize=(16, 8))\n",
    "plt.xlabel(\"Time\")\n",
    "plt.ylabel(\"Closing stock value\")\n",
    "plt.title(\"Stock History\")\n",
    "plt.plot(plot_train['Close'])\n",
    "plt.plot(plot_test[['Close', 'Predictions']])\n",
    "plt.show()"
   ]
  },
  {
   "cell_type": "code",
   "execution_count": null,
   "metadata": {},
   "outputs": [],
   "source": []
  },
  {
   "cell_type": "code",
   "execution_count": null,
   "metadata": {},
   "outputs": [],
   "source": []
  }
 ],
 "metadata": {
  "kernelspec": {
   "display_name": "Python 3",
   "language": "python",
   "name": "python3"
  },
  "language_info": {
   "codemirror_mode": {
    "name": "ipython",
    "version": 3
   },
   "file_extension": ".py",
   "mimetype": "text/x-python",
   "name": "python",
   "nbconvert_exporter": "python",
   "pygments_lexer": "ipython3",
   "version": "3.7.1"
  }
 },
 "nbformat": 4,
 "nbformat_minor": 2
}
