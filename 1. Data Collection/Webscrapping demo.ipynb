{
 "cells": [
  {
   "cell_type": "code",
   "execution_count": 1,
   "metadata": {},
   "outputs": [],
   "source": [
    "# Importing important library\n",
    "\n",
    "from bs4 import BeautifulSoup\n",
    "import requests"
   ]
  },
  {
   "cell_type": "code",
   "execution_count": 2,
   "metadata": {},
   "outputs": [],
   "source": [
    "def request_webpage(url):\n",
    "    res = requests.get(url)\n",
    "    \n",
    "    try:\n",
    "        res.raise_for_status()\n",
    "    except Exception as exc:\n",
    "        print('There was a problem with the request: %s' %(exc))\n",
    "    \n",
    "    return res"
   ]
  },
  {
   "cell_type": "code",
   "execution_count": 3,
   "metadata": {},
   "outputs": [],
   "source": [
    "# Storing the webpage locally\n",
    "\n",
    "coming_soon_page = request_webpage('https://www.imdb.com/movies-coming-soon/2019-01/')"
   ]
  },
  {
   "cell_type": "code",
   "execution_count": 5,
   "metadata": {},
   "outputs": [],
   "source": [
    "# check the result by running below code\n",
    "# coming_soon_page.text"
   ]
  },
  {
   "cell_type": "code",
   "execution_count": 7,
   "metadata": {},
   "outputs": [],
   "source": [
    "# Beautifying the result for imporving the redability\n",
    "\n",
    "coming_soon_soup = BeautifulSoup(coming_soon_page.text)\n",
    "# print(coming_soon_soup.prettify())"
   ]
  },
  {
   "cell_type": "code",
   "execution_count": 8,
   "metadata": {},
   "outputs": [
    {
     "data": {
      "text/plain": [
       "['https://m.media-amazon.com/images/M/MV5BMjQ2NDMwMTY3MF5BMl5BanBnXkFtZTgwNDg5OTc1NjM@._V1_UY209_CR0,0,140,209_AL_.jpg',\n",
       " 'https://m.media-amazon.com/images/M/MV5BMzJlMjU0YjYtYTkxNy00YThmLWJlY2ItMDIxZjZhNGVkOTFiXkEyXkFqcGdeQXVyMTkzNTY1NTU@._V1_UY209_CR11,0,140,209_AL_.jpg',\n",
       " 'https://m.media-amazon.com/images/M/MV5BYTAzYzI1ZDYtNDUwYS00OTg4LTg4N2ItMTk5MTUxYzgyMGM4XkEyXkFqcGdeQXVyMTk2MDc1MjQ@._V1_UY209_CR3,0,140,209_AL_.jpg',\n",
       " 'https://m.media-amazon.com/images/M/MV5BODI5Y2I0MTktZDRkNS00NWFjLTg1MmEtNWFkMzEwOGM0ZDE3XkEyXkFqcGdeQXVyNTA1NjYyMDk@._V1_UY209_CR0,0,140,209_AL_.jpg',\n",
       " 'https://m.media-amazon.com/images/M/MV5BNzY3NzYyNjI0N15BMl5BanBnXkFtZTgwNjYzMDc0NjM@._V1_UY209_CR0,0,140,209_AL_.jpg',\n",
       " 'https://m.media-amazon.com/images/M/MV5BMTg5MjcwMzY5OV5BMl5BanBnXkFtZTgwMDM0OTI1NjM@._V1_UY209_CR0,0,140,209_AL_.jpg',\n",
       " 'https://m.media-amazon.com/images/M/MV5BOTdkNDliOWQtOGE3YS00ZmE4LWE3YTAtZDZkNTU0ZDFlMWNiXkEyXkFqcGdeQXVyMTMxODk2OTU@._V1_UY209_CR3,0,140,209_AL_.jpg',\n",
       " 'https://m.media-amazon.com/images/M/MV5BZGQxYTZlYzQtNjk3NS00MjVhLTkxZTYtMDk2ODlkMGJkYzBhXkEyXkFqcGdeQXVyMTk5MzE1MTY@._V1_UY209_CR0,0,140,209_AL_.jpg',\n",
       " 'https://m.media-amazon.com/images/M/MV5BYjg3YjUwMDgtZTgzNS00Y2NhLWFhZDQtY2U1NzNmZDNhOGM0XkEyXkFqcGdeQXVyMzg1ODQ4OQ@@._V1_UY209_CR0,0,140,209_AL_.jpg',\n",
       " 'https://m.media-amazon.com/images/M/MV5BZGFmMGExZGItYTc3OS00ODZiLTk1ZmYtMTliZTBiODEwMzI4XkEyXkFqcGdeQXVyODY4ODQ0ODI@._V1_UY209_CR0,0,140,209_AL_.jpg',\n",
       " 'https://m.media-amazon.com/images/M/MV5BMjI2MzI3NTYzMF5BMl5BanBnXkFtZTgwMDEwMDU5NjM@._V1_UY209_CR0,0,140,209_AL_.jpg',\n",
       " 'https://m.media-amazon.com/images/M/MV5BMTY1OTA2MjI5OV5BMl5BanBnXkFtZTgwNzkxMjU4NjM@._V1_UY209_CR3,0,140,209_AL_.jpg',\n",
       " 'https://m.media-amazon.com/images/M/MV5BNTkyN2YyMjEtMmI2NC00MTRmLWIyZmMtYTQ3ZGE0YzM2NGIzXkEyXkFqcGdeQXVyMTMxODk2OTU@._V1_UY209_CR0,0,140,209_AL_.jpg',\n",
       " 'https://m.media-amazon.com/images/M/MV5BNTlmODY4MjQtZDUzNC00YWFhLWJjNTktYTMyYjY1OTVjOTc1XkEyXkFqcGdeQXVyODY3Nzc0OTk@._V1_UY209_CR1,0,140,209_AL_.jpg',\n",
       " 'https://m.media-amazon.com/images/M/MV5BMTExNjAzNTMyOTNeQTJeQWpwZ15BbWU4MDg1MDI1OTYz._V1_UY209_CR0,0,140,209_AL_.jpg',\n",
       " 'https://m.media-amazon.com/images/M/MV5BY2VjNGFkZmUtMTI1MS00YmRiLTg1MmUtYzI0ODM1OWRkMjIyXkEyXkFqcGdeQXVyOTIxNTAyMzU@._V1_UY209_CR0,0,140,209_AL_.jpg',\n",
       " 'https://m.media-amazon.com/images/M/MV5BMjMzOTUwNzgyOV5BMl5BanBnXkFtZTgwNjk3MTQwNzM@._V1_UY209_CR0,0,140,209_AL_.jpg',\n",
       " 'https://m.media-amazon.com/images/M/MV5BM2VmZjU0MDktZGIyZC00ZTNiLWI4Y2EtZGNmNWE2MDA4YTk2XkEyXkFqcGdeQXVyOTM5NzYzNTU@._V1_UY209_CR0,0,140,209_AL_.jpg',\n",
       " 'https://m.media-amazon.com/images/M/MV5BMzQ5MTI3MDc5MF5BMl5BanBnXkFtZTgwNTY2NjQ3NjM@._V1_UY209_CR0,0,140,209_AL_.jpg',\n",
       " 'https://m.media-amazon.com/images/M/MV5BZTBhZGViMDYtNjBmMC00MDc3LWEwOTItMzhkZWRlNTE0NTUyXkEyXkFqcGdeQXVyMjUxOTAxNzI@._V1_UY209_CR14,0,140,209_AL_.jpg',\n",
       " 'https://m.media-amazon.com/images/M/MV5BNzNiMDdlODMtZmM4ZS00MWYxLTgxMWYtOGI3MjBiODY3NWVhXkEyXkFqcGdeQXVyNzc0MTgzMzU@._V1_UY209_CR0,0,140,209_AL_.jpg',\n",
       " 'https://m.media-amazon.com/images/M/MV5BZDFkMWRkZWMtYTQzZC00NjJmLThiNjgtYzU2YTllNDZiZTc5XkEyXkFqcGdeQXVyMjU4MDUyNA@@._V1_UY209_CR0,0,140,209_AL_.jpg',\n",
       " 'https://m.media-amazon.com/images/M/MV5BMTkxOTEzNjctYzhkZC00ZWZlLTg2NTgtYTgzZTBlZGQwMjJiXkEyXkFqcGdeQXVyMzIxNjM0MjY@._V1_UX140_CR0,0,140,209_AL_.jpg']"
      ]
     },
     "execution_count": 8,
     "metadata": {},
     "output_type": "execute_result"
    }
   ],
   "source": [
    "details = coming_soon_soup.find('div', attrs = {'class': 'list detail'})\n",
    "image_details = details.find_all('img')\n",
    "\n",
    "#this list comprehension will get all the 'src' data (urls) of the posters,\n",
    "#while filter out icons for ratings\n",
    "image_list = [x['src'] for x in image_details if 'poster' in x['class']]\n",
    "image_list"
   ]
  },
  {
   "cell_type": "code",
   "execution_count": 9,
   "metadata": {},
   "outputs": [],
   "source": [
    "image_url = image_list[0]\n",
    "slice_index = image_url.find('_V1_')\n",
    "full_size_image_url = image_url[:slice_index] + '_V1_.jpg'"
   ]
  },
  {
   "cell_type": "code",
   "execution_count": 10,
   "metadata": {},
   "outputs": [
    {
     "data": {
      "text/plain": [
       "'https://m.media-amazon.com/images/M/MV5BMjQ2NDMwMTY3MF5BMl5BanBnXkFtZTgwNDg5OTc1NjM@._V1_.jpg'"
      ]
     },
     "execution_count": 10,
     "metadata": {},
     "output_type": "execute_result"
    }
   ],
   "source": [
    "full_size_image_url"
   ]
  },
  {
   "cell_type": "code",
   "execution_count": 12,
   "metadata": {},
   "outputs": [],
   "source": [
    "img_res = request_webpage(full_size_image_url)"
   ]
  },
  {
   "cell_type": "code",
   "execution_count": 13,
   "metadata": {},
   "outputs": [],
   "source": [
    "imageFile = open('MoviePoster0'+'.jpg', 'wb')\n",
    "for chunk in img_res.iter_content(100000):\n",
    "  imageFile.write(chunk)\n",
    "imageFile.close()"
   ]
  },
  {
   "cell_type": "markdown",
   "metadata": {},
   "source": [
    "# Challenge 1\n",
    "\n",
    "Find the names of the movies (for this month).\n",
    "\n",
    "Put them in a list.\n"
   ]
  },
  {
   "cell_type": "code",
   "execution_count": 14,
   "metadata": {},
   "outputs": [
    {
     "data": {
      "text/plain": [
       "['Escape Room (2019) Poster',\n",
       " 'Great Great Great (2017) Poster',\n",
       " 'Yun nan chong gu (2018) Poster',\n",
       " 'La religieuse (1966) Poster',\n",
       " 'The Upside (2017) Poster',\n",
       " \"A Dog's Way Home (2019) Poster\",\n",
       " 'Perfectos desconocidos (2017) Poster',\n",
       " 'Replicas (2018) Poster',\n",
       " 'The Untold Story (2019) Poster',\n",
       " 'SGT. Will Gardner (2019) Poster',\n",
       " 'The Aspern Papers (2018) Poster',\n",
       " 'Glass (2019) Poster',\n",
       " 'Las herederas (2018) Poster',\n",
       " 'The Pages (2018) Poster',\n",
       " 'Adult Life Skills (2016) Poster',\n",
       " 'Serenity (2019) Poster',\n",
       " 'The Kid Who Would Be King (2019) Poster',\n",
       " 'Die Unsichtbaren (2017) Poster',\n",
       " 'Werk ohne Autor (2018) Poster',\n",
       " 'The Final Wish (2018) Poster',\n",
       " 'In Like Flynn (2018) Poster',\n",
       " 'Jihadists (2016) Poster',\n",
       " 'Bricked (2019) Poster']"
      ]
     },
     "execution_count": 14,
     "metadata": {},
     "output_type": "execute_result"
    }
   ],
   "source": [
    "# these two lines are just a reminder, since we've already run them above:\n",
    "# details = coming_soon_soup.find('div', attrs = {'class': 'list detail'})\n",
    "# image_details = details.find_all('img')\n",
    "\n",
    "name_list = [x['alt'] for x in image_details if 'poster' in x['class']]\n",
    "name_list"
   ]
  },
  {
   "cell_type": "markdown",
   "metadata": {},
   "source": [
    "# Challenge 2:\n",
    "Collect all of the movie posters (for this month).\n",
    "\n",
    "Put them in a folder."
   ]
  },
  {
   "cell_type": "code",
   "execution_count": 15,
   "metadata": {},
   "outputs": [],
   "source": [
    "import os \n",
    "\n",
    "current_date = '2019-01'\n",
    "try:\n",
    "  os.makedirs(current_date) ### Making new directory\n",
    "except:\n",
    "  print('failed gracefully, you probably already made the folder')"
   ]
  },
  {
   "cell_type": "code",
   "execution_count": 16,
   "metadata": {},
   "outputs": [
    {
     "name": "stdout",
     "output_type": "stream",
     "text": [
      "All Finished\n"
     ]
    }
   ],
   "source": [
    "for i in range(len(image_list)):\n",
    "  image_url = image_list[i]\n",
    "  slice_index = image_url.find('_V1_')\n",
    "  full_size_image_url = image_url[:slice_index] + '_V1_.jpg'\n",
    "  img_res = request_webpage(full_size_image_url)\n",
    "  try:\n",
    "    imageFile = open(os.path.join(current_date, name_list[i] + '.jpg'), 'wb')\n",
    "    for chunk in img_res.iter_content(100000):\n",
    "      imageFile.write(chunk)\n",
    "    imageFile.close()\n",
    "  except Exception as exc:\n",
    "    print('There was a problem with writing the file for %s: %s' % (name_list[i], exc))\n",
    "    \n",
    "print('All Finished')"
   ]
  },
  {
   "cell_type": "markdown",
   "metadata": {},
   "source": [
    "# Challenge 3:\n",
    "Collect a year's worth of movie posters, placing them in folders by month."
   ]
  },
  {
   "cell_type": "code",
   "execution_count": 17,
   "metadata": {},
   "outputs": [],
   "source": [
    "def collect_media_info(date):\n",
    "  url = 'https://www.imdb.com/movies-coming-soon/' + date + '/'\n",
    "  soup = BeautifulSoup(request_webpage(url).text)\n",
    "  \n",
    "  details = soup.find('div', attrs = {'class': 'list detail'})\n",
    "  image_details = details.find_all('img')\n",
    "  \n",
    "  image_list = [x['src'] for x in image_details if 'poster' in x['class']]\n",
    "  name_list = [x['alt'] for x in image_details if 'poster' in x['class']]\n",
    "  return (image_list, name_list)"
   ]
  },
  {
   "cell_type": "code",
   "execution_count": 18,
   "metadata": {},
   "outputs": [],
   "source": [
    "def download_month_of_posters(images, names, date):\n",
    "  try:\n",
    "    os.makedirs(date)\n",
    "  except:\n",
    "    print('failed gracefully, you probably already made the folder')\n",
    "    \n",
    "  for i in range(len(images)):\n",
    "    image_url = images[i]\n",
    "    slice_index = image_url.find('_V1_')\n",
    "    full_size_image_url = image_url[:slice_index] + '_V1_.jpg'\n",
    "    img_res = request_webpage(full_size_image_url)\n",
    "    name = names[i]\n",
    "    if ('/' in name): # because file names can't have a slash\n",
    "      name = name.replace('/', '-') \n",
    "    try:\n",
    "      imageFile = open(os.path.join(date, name + '.jpg'), 'wb')\n",
    "      for chunk in img_res.iter_content(100000):\n",
    "        imageFile.write(chunk)\n",
    "      imageFile.close()\n",
    "    except Exception as exc:\n",
    "      print('There was a problem with writing the file for %s: %s' % (names[i], exc))\n",
    "    \n",
    "  print('All Finished with %s' % (date))"
   ]
  },
  {
   "cell_type": "code",
   "execution_count": 19,
   "metadata": {},
   "outputs": [
    {
     "data": {
      "text/plain": [
       "['01', '02', '03', '04', '05', '06', '07', '08', '09', '10', '11', '12']"
      ]
     },
     "execution_count": 19,
     "metadata": {},
     "output_type": "execute_result"
    }
   ],
   "source": [
    "# month numbers for the URLs\n",
    "month_nums = [str(x+1).zfill(2) for x in range(12)]\n",
    "month_nums"
   ]
  },
  {
   "cell_type": "code",
   "execution_count": null,
   "metadata": {},
   "outputs": [],
   "source": [
    "year = '2019'\n",
    "for ii in month_nums:\n",
    "  date = year + '-' + ii\n",
    "  images, names = collect_media_info(date)\n",
    "  download_month_of_posters(images, names, date)"
   ]
  },
  {
   "cell_type": "markdown",
   "metadata": {},
   "source": [
    "# Challenge 4:\n",
    "Zip all the files you have collected in order to download them on your local machine (without a million clicks)\n",
    "\n",
    "See this article for how to go about zipping: https://www.geeksforgeeks.org/working-zip-files-python/"
   ]
  },
  {
   "cell_type": "code",
   "execution_count": 21,
   "metadata": {},
   "outputs": [],
   "source": [
    "from zipfile import ZipFile "
   ]
  },
  {
   "cell_type": "code",
   "execution_count": 22,
   "metadata": {},
   "outputs": [
    {
     "name": "stderr",
     "output_type": "stream",
     "text": [
      "'rm' is not recognized as an internal or external command,\n",
      "operable program or batch file.\n"
     ]
    }
   ],
   "source": [
    "# code for deleting a directory\n",
    "# in case you make a mistake and want to clean up: \n",
    "!rm -rf '2018-01' # '2018-01' is a folder of files to delete"
   ]
  },
  {
   "cell_type": "code",
   "execution_count": 23,
   "metadata": {},
   "outputs": [],
   "source": [
    "## hide me!!!!\n",
    "\n",
    "def get_file_paths(directory): \n",
    "  file_paths = []\n",
    "  files = os.listdir(directory)\n",
    "  for filename in files: \n",
    "    filepath = os.path.join(directory, filename)\n",
    "    file_paths.append(filepath)\n",
    "  return file_paths "
   ]
  },
  {
   "cell_type": "code",
   "execution_count": 24,
   "metadata": {},
   "outputs": [
    {
     "ename": "FileNotFoundError",
     "evalue": "[WinError 3] The system cannot find the path specified: '2019-04'",
     "output_type": "error",
     "traceback": [
      "\u001b[1;31m---------------------------------------------------------------------------\u001b[0m",
      "\u001b[1;31mFileNotFoundError\u001b[0m                         Traceback (most recent call last)",
      "\u001b[1;32m<ipython-input-24-d04c39e3702b>\u001b[0m in \u001b[0;36m<module>\u001b[1;34m\u001b[0m\n\u001b[0;32m      3\u001b[0m \u001b[1;32mfor\u001b[0m \u001b[0mi\u001b[0m \u001b[1;32min\u001b[0m \u001b[0mrange\u001b[0m\u001b[1;33m(\u001b[0m\u001b[1;36m12\u001b[0m\u001b[1;33m)\u001b[0m\u001b[1;33m:\u001b[0m\u001b[1;33m\u001b[0m\u001b[1;33m\u001b[0m\u001b[0m\n\u001b[0;32m      4\u001b[0m   \u001b[0mdate\u001b[0m \u001b[1;33m=\u001b[0m \u001b[0myear\u001b[0m \u001b[1;33m+\u001b[0m \u001b[1;34m'-'\u001b[0m \u001b[1;33m+\u001b[0m \u001b[0mstr\u001b[0m\u001b[1;33m(\u001b[0m\u001b[0mi\u001b[0m\u001b[1;33m+\u001b[0m\u001b[1;36m1\u001b[0m\u001b[1;33m)\u001b[0m\u001b[1;33m.\u001b[0m\u001b[0mzfill\u001b[0m\u001b[1;33m(\u001b[0m\u001b[1;36m2\u001b[0m\u001b[1;33m)\u001b[0m\u001b[1;33m\u001b[0m\u001b[1;33m\u001b[0m\u001b[0m\n\u001b[1;32m----> 5\u001b[1;33m   \u001b[0mcwd_file_paths\u001b[0m \u001b[1;33m+=\u001b[0m \u001b[0mget_file_paths\u001b[0m\u001b[1;33m(\u001b[0m\u001b[0mdate\u001b[0m\u001b[1;33m)\u001b[0m\u001b[1;33m\u001b[0m\u001b[1;33m\u001b[0m\u001b[0m\n\u001b[0m",
      "\u001b[1;32m<ipython-input-23-88fae6c4444a>\u001b[0m in \u001b[0;36mget_file_paths\u001b[1;34m(directory)\u001b[0m\n\u001b[0;32m      3\u001b[0m \u001b[1;32mdef\u001b[0m \u001b[0mget_file_paths\u001b[0m\u001b[1;33m(\u001b[0m\u001b[0mdirectory\u001b[0m\u001b[1;33m)\u001b[0m\u001b[1;33m:\u001b[0m\u001b[1;33m\u001b[0m\u001b[1;33m\u001b[0m\u001b[0m\n\u001b[0;32m      4\u001b[0m   \u001b[0mfile_paths\u001b[0m \u001b[1;33m=\u001b[0m \u001b[1;33m[\u001b[0m\u001b[1;33m]\u001b[0m\u001b[1;33m\u001b[0m\u001b[1;33m\u001b[0m\u001b[0m\n\u001b[1;32m----> 5\u001b[1;33m   \u001b[0mfiles\u001b[0m \u001b[1;33m=\u001b[0m \u001b[0mos\u001b[0m\u001b[1;33m.\u001b[0m\u001b[0mlistdir\u001b[0m\u001b[1;33m(\u001b[0m\u001b[0mdirectory\u001b[0m\u001b[1;33m)\u001b[0m\u001b[1;33m\u001b[0m\u001b[1;33m\u001b[0m\u001b[0m\n\u001b[0m\u001b[0;32m      6\u001b[0m   \u001b[1;32mfor\u001b[0m \u001b[0mfilename\u001b[0m \u001b[1;32min\u001b[0m \u001b[0mfiles\u001b[0m\u001b[1;33m:\u001b[0m\u001b[1;33m\u001b[0m\u001b[1;33m\u001b[0m\u001b[0m\n\u001b[0;32m      7\u001b[0m     \u001b[0mfilepath\u001b[0m \u001b[1;33m=\u001b[0m \u001b[0mos\u001b[0m\u001b[1;33m.\u001b[0m\u001b[0mpath\u001b[0m\u001b[1;33m.\u001b[0m\u001b[0mjoin\u001b[0m\u001b[1;33m(\u001b[0m\u001b[0mdirectory\u001b[0m\u001b[1;33m,\u001b[0m \u001b[0mfilename\u001b[0m\u001b[1;33m)\u001b[0m\u001b[1;33m\u001b[0m\u001b[1;33m\u001b[0m\u001b[0m\n",
      "\u001b[1;31mFileNotFoundError\u001b[0m: [WinError 3] The system cannot find the path specified: '2019-04'"
     ]
    }
   ],
   "source": [
    "year = '2019'\n",
    "cwd_file_paths = []\n",
    "for i in range(12):\n",
    "  date = year + '-' + str(i+1).zfill(2)\n",
    "  cwd_file_paths += get_file_paths(date)"
   ]
  },
  {
   "cell_type": "code",
   "execution_count": 25,
   "metadata": {},
   "outputs": [
    {
     "name": "stdout",
     "output_type": "stream",
     "text": [
      "The following files will be zipped:\n",
      "2019-01\\A Dog's Way Home (2019) Poster.jpg\n",
      "2019-01\\Adult Life Skills (2016) Poster.jpg\n",
      "2019-01\\Bricked (2019) Poster.jpg\n",
      "2019-01\\Die Unsichtbaren (2017) Poster.jpg\n",
      "2019-01\\Escape Room (2019) Poster.jpg\n",
      "2019-01\\Glass (2019) Poster.jpg\n",
      "2019-01\\Great Great Great (2017) Poster.jpg\n",
      "2019-01\\In Like Flynn (2018) Poster.jpg\n",
      "2019-01\\Jihadists (2016) Poster.jpg\n",
      "2019-01\\La religieuse (1966) Poster.jpg\n",
      "2019-01\\Las herederas (2018) Poster.jpg\n",
      "2019-01\\Perfectos desconocidos (2017) Poster.jpg\n",
      "2019-01\\Replicas (2018) Poster.jpg\n",
      "2019-01\\Serenity (2019) Poster.jpg\n",
      "2019-01\\SGT. Will Gardner (2019) Poster.jpg\n",
      "2019-01\\The Aspern Papers (2018) Poster.jpg\n",
      "2019-01\\The Final Wish (2018) Poster.jpg\n",
      "2019-01\\The Kid Who Would Be King (2019) Poster.jpg\n",
      "2019-01\\The Pages (2018) Poster.jpg\n",
      "2019-01\\The Untold Story (2019) Poster.jpg\n",
      "2019-01\\The Upside (2017) Poster.jpg\n",
      "2019-01\\Werk ohne Autor (2018) Poster.jpg\n",
      "2019-01\\Yun nan chong gu (2018) Poster.jpg\n",
      "2019-02\\Ahlat Agaci (2018) Poster.jpg\n",
      "2019-02\\Alita\n",
      "2019-02\\Arctic (2018) Poster.jpg\n",
      "2019-02\\Chokehold (2019) Poster.jpg\n",
      "2019-02\\Cold Pursuit (2019) Poster.jpg\n",
      "2019-02\\Donnybrook (2018) Poster.jpg\n",
      "2019-02\\Ek Ladki Ko Dekha Toh Aisa Laga (2019) Poster.jpg\n",
      "2019-02\\Fighting with My Family (2019) Poster.jpg\n",
      "2019-02\\Happy Death Day 2U (2019) Poster.jpg\n",
      "2019-02\\How to Train Your Dragon\n",
      "2019-02\\Isn't It Romantic (2019) Poster.jpg\n",
      "2019-02\\Miss Bala (2019) Poster.jpg\n",
      "2019-02\\Plaire, aimer et courir vite (2018) Poster.jpg\n",
      "2019-02\\Pájaros de verano (2018) Poster.jpg\n",
      "2019-02\\Ruben Brandt, Collector (2018) Poster.jpg\n",
      "2019-02\\Run the Race (2018) Poster.jpg\n",
      "2019-02\\The Final Wish (2018) Poster.jpg\n",
      "2019-02\\The Lego Movie 2\n",
      "2019-02\\The Prodigy (2019) Poster.jpg\n",
      "2019-02\\The Turning (2020) Poster.jpg\n",
      "2019-02\\Todos lo saben (2018) Poster.jpg\n",
      "2019-02\\Total Dhamaal (2019) Poster.jpg\n",
      "2019-02\\Under the Eiffel Tower (2018) Poster.jpg\n",
      "2019-02\\What Men Want (2019) Poster.jpg\n",
      "2019-02\\xiao zhu pei qi guo da nian (2019) Poster.jpg\n",
      "2019-03\\A Madea Family Funeral (2019) Poster.jpg\n",
      "2019-03\\Captain Marvel (2019) Poster.jpg\n",
      "2019-03\\Climax (2018) Poster.jpg\n",
      "2019-03\\Five Feet Apart (2019) Poster.jpg\n",
      "2019-03\\Gloria Bell (2018) Poster.jpg\n",
      "2019-03\\Greta (2018) Poster.jpg\n",
      "2019-03\\Saint Judy (2018) Poster.jpg\n",
      "2019-03\\Stray (2019) Poster.jpg\n",
      "2019-03\\Styx (2018) Poster.jpg\n",
      "2019-03\\The Kid (2019) Poster.jpg\n",
      "2019-03\\The Sex Trip (2017) Poster.jpg\n",
      "2019-03\\Transit (2018) Poster.jpg\n",
      "2019-03\\Wonder Park (2019) Poster.jpg\n",
      "All files zipped successfully!\n"
     ]
    }
   ],
   "source": [
    "print('The following files will be zipped:') \n",
    "for file_name in cwd_file_paths: \n",
    "  print(file_name) \n",
    "  \n",
    "with ZipFile(year+'-movie-posters.zip','w') as zip: \n",
    "  for file in cwd_file_paths:\n",
    "    zip.write(file)\n",
    "  \n",
    "print('All files zipped successfully!')"
   ]
  },
  {
   "cell_type": "code",
   "execution_count": null,
   "metadata": {},
   "outputs": [],
   "source": []
  }
 ],
 "metadata": {
  "kernelspec": {
   "display_name": "Python 3",
   "language": "python",
   "name": "python3"
  },
  "language_info": {
   "codemirror_mode": {
    "name": "ipython",
    "version": 3
   },
   "file_extension": ".py",
   "mimetype": "text/x-python",
   "name": "python",
   "nbconvert_exporter": "python",
   "pygments_lexer": "ipython3",
   "version": "3.7.1"
  }
 },
 "nbformat": 4,
 "nbformat_minor": 2
}
