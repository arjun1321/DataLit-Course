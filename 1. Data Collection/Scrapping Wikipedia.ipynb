{
 "cells": [
  {
   "cell_type": "code",
   "execution_count": 4,
   "metadata": {},
   "outputs": [
    {
     "name": "stdout",
     "output_type": "stream",
     "text": [
      "Requirement already satisfied: stop-words in c:\\users\\arjun kumar\\anaconda3\\lib\\site-packages (2018.7.23)\n",
      "Collecting tabulate\n",
      "  Downloading https://files.pythonhosted.org/packages/c2/fd/202954b3f0eb896c53b7b6f07390851b1fd2ca84aa95880d7ae4f434c4ac/tabulate-0.8.3.tar.gz (46kB)\n",
      "Building wheels for collected packages: tabulate\n",
      "  Running setup.py bdist_wheel for tabulate: started\n",
      "  Running setup.py bdist_wheel for tabulate: finished with status 'done'\n",
      "  Stored in directory: C:\\Users\\Arjun Kumar\\AppData\\Local\\pip\\Cache\\wheels\\2b\\67\\89\\414471314a2d15de625d184d8be6d38a03ae1e983dbda91e84\n",
      "Successfully built tabulate\n",
      "Installing collected packages: tabulate\n",
      "Successfully installed tabulate-0.8.3\n"
     ]
    }
   ],
   "source": [
    "!pip install stop-words\n",
    "!pip install tabulate"
   ]
  },
  {
   "cell_type": "markdown",
   "metadata": {},
   "source": [
    "# Libraries\n",
    "Lets write a Simple script to get the 20 words and their frequency percentage with highest frequency in an English Wikipedia article.\n",
    "\n",
    "Applications are recommender systems, chatbots and NLP, sentiment analysis, data visualization, market research Beautiful Soup is a Python library for pulling data out of HTML and XML files.\n",
    "\n",
    "Requests is one of the most downloaded Python packages of all time, pulling in over 7,000,000 downloads every month. HTTP library for pulling pushing and authenticating lets you do Regular expression operations special text string for describing a search pattern. find and replace\n",
    "\n",
    "The operator module exports a set of efficient functions corresponding to the intrinsic operators of Python. comparison, addition, greater than less then parses json, formats it\n",
    "\n",
    "The module provides just one function, tabulate, which takes a list of lists or another tabular data type as the first argument, and outputs a nicely formatted plain-text table: system calls, dealw with user arguments list of common stop words various languages like the"
   ]
  },
  {
   "cell_type": "code",
   "execution_count": 5,
   "metadata": {},
   "outputs": [],
   "source": [
    "from bs4 import BeautifulSoup\n",
    "import requests\n",
    "import re\n",
    "import operator\n",
    "import json\n",
    "from tabulate import tabulate\n",
    "import sys\n",
    "from stop_words import get_stop_words"
   ]
  },
  {
   "cell_type": "markdown",
   "metadata": {},
   "source": [
    "# Functions for Scraping\n",
    "\n",
    "Functions for word list and frequency table"
   ]
  },
  {
   "cell_type": "code",
   "execution_count": 6,
   "metadata": {},
   "outputs": [],
   "source": [
    "#get the words\n",
    "def getWordList(url):\n",
    "    word_list = []\n",
    "    \n",
    "    #raw data\n",
    "    source_code = requests.get(url)\n",
    "    \n",
    "    #convert to text\n",
    "    plain_text = source_code.text\n",
    "    \n",
    "    #lxml format\n",
    "    soup = BeautifulSoup(plain_text,'lxml')\n",
    "\n",
    "    #find the words in paragraph tag\n",
    "    for text in soup.findAll('p'):\n",
    "        if text.text is None:\n",
    "            continue\n",
    "        content = text.text\n",
    "        #lowercase and split into an array\n",
    "        words = content.lower().split()\n",
    "\n",
    "        for word in words:\n",
    "            #remove non-chars\n",
    "            cleaned_word = clean_word(word)\n",
    "            #if there is still something there\n",
    "            if len(cleaned_word) > 0:\n",
    "                #add it to our word list\n",
    "                word_list.append(cleaned_word)\n",
    "\n",
    "    return word_list\n",
    "\n",
    "def createFrquencyTable(word_list):\n",
    "    word_count = {}\n",
    "    for word in word_list:\n",
    "        if word in word_count:\n",
    "            word_count[word] += 1\n",
    "        else:\n",
    "            word_count[word] = 1\n",
    "\n",
    "    return word_count"
   ]
  },
  {
   "cell_type": "markdown",
   "metadata": {},
   "source": [
    "# Functions for cleaning text\n",
    "Cleaning text data using regex"
   ]
  },
  {
   "cell_type": "code",
   "execution_count": 8,
   "metadata": {},
   "outputs": [],
   "source": [
    "#clean word with regex\n",
    "def clean_word(word):\n",
    "    cleaned_word = re.sub('[^A-Za-z]+', '', word)\n",
    "    return cleaned_word\n",
    "\n",
    "#remove stopwords\n",
    "def remove_stop_words(frequency_list):\n",
    "    stop_words = get_stop_words('en')\n",
    "\n",
    "    temp_list = []\n",
    "    for key,value in frequency_list:\n",
    "        if key not in stop_words:\n",
    "            temp_list.append([key, value])\n",
    "\n",
    "    return temp_list"
   ]
  },
  {
   "cell_type": "markdown",
   "metadata": {},
   "source": [
    "# Modify these variables\n",
    "string_query : You can modify this variable whatever you want to search for\n",
    "\n",
    "search_mode : True or False to remove stop words or not"
   ]
  },
  {
   "cell_type": "code",
   "execution_count": 10,
   "metadata": {},
   "outputs": [],
   "source": [
    "#keyword you want to search\n",
    "string_query = \"ai\"\n",
    "\n",
    "#to remove stop words or not\n",
    "search_mode = True\n",
    "#search_mode = False"
   ]
  },
  {
   "cell_type": "code",
   "execution_count": 12,
   "metadata": {},
   "outputs": [
    {
     "name": "stdout",
     "output_type": "stream",
     "text": [
      "| Word         |   Frequency |   Frequency Percentage |\n",
      "|--------------+-------------+------------------------|\n",
      "| ai           |         167 |                 2.2    |\n",
      "| intelligence |          87 |                 1.1461 |\n",
      "| can          |          84 |                 1.1066 |\n",
      "| artificial   |          67 |                 0.8826 |\n",
      "| human        |          62 |                 0.8168 |\n",
      "| learning     |          59 |                 0.7772 |\n",
      "| many         |          49 |                 0.6455 |\n",
      "| machine      |          48 |                 0.6323 |\n",
      "| research     |          43 |                 0.5665 |\n",
      "| networks     |          39 |                 0.5138 |\n",
      "| knowledge    |          37 |                 0.4874 |\n",
      "| use          |          34 |                 0.4479 |\n",
      "| neural       |          34 |                 0.4479 |\n",
      "| problems     |          32 |                 0.4216 |\n",
      "| also         |          31 |                 0.4084 |\n",
      "| computer     |          30 |                 0.3952 |\n",
      "| systems      |          28 |                 0.3689 |\n",
      "| used         |          28 |                 0.3689 |\n",
      "| machines     |          27 |                 0.3557 |\n",
      "| data         |          27 |                 0.3557 |\n"
     ]
    }
   ],
   "source": [
    "#access wiki API. json format. query it for data. search tyep. shows list of possibilities\n",
    "wikipedia_api_link = \"https://en.wikipedia.org/w/api.php?format=json&action=query&list=search&srsearch=\"\n",
    "wikipedia_link = \"https://en.wikipedia.org/wiki/\"\n",
    "url = wikipedia_api_link + string_query\n",
    "\n",
    "\n",
    "#try-except block. simple way to deal with exceptions \n",
    "#great for HTTP requests\n",
    "try:\n",
    "    #use requests to retrieve raw data from wiki API URL we\n",
    "    #just constructed\n",
    "    response = requests.get(url)\n",
    "\n",
    "    #format that data as a JSON dictionary\n",
    "    data = json.loads(response.content.decode(\"utf-8\"))\n",
    "\n",
    "    #page title, first option\n",
    "    #show this in web browser\n",
    "    wikipedia_page_tag = data['query']['search'][0]['title']\n",
    "\n",
    "    #get actual wiki page based on retrieved title\n",
    "    url = wikipedia_link + wikipedia_page_tag\n",
    "    #get list of words from that page\n",
    "    page_word_list = getWordList(url)\n",
    "    #create table of word counts, dictionary\n",
    "    page_word_count = createFrquencyTable(page_word_list)\n",
    "    #sort the table by the frequency count\n",
    "    sorted_word_frequency_list = sorted(page_word_count.items(), key=operator.itemgetter(1), reverse=True)\n",
    "    #remove stop words if the user specified\n",
    "    if(search_mode):\n",
    "        sorted_word_frequency_list = remove_stop_words(sorted_word_frequency_list)\n",
    "\n",
    "    #sum the total words to calculate frequencies   \n",
    "    total_words_sum = 0\n",
    "    for key,value in sorted_word_frequency_list:\n",
    "        total_words_sum = total_words_sum + value\n",
    "\n",
    "    #just get the top 20 words\n",
    "    if len(sorted_word_frequency_list) > 20:\n",
    "        sorted_word_frequency_list = sorted_word_frequency_list[:20]\n",
    "\n",
    "    #create our final list which contains words, frequency (word count), percentage\n",
    "    final_list = []\n",
    "    for key,value in sorted_word_frequency_list:\n",
    "        percentage_value = float(value * 100) / total_words_sum\n",
    "        final_list.append([key, value, round(percentage_value, 4)])\n",
    "\n",
    "    #headers before the table\n",
    "    print_headers = ['Word', 'Frequency', 'Frequency Percentage']\n",
    "\n",
    "    #print the table with tabulate\n",
    "    print(tabulate(final_list, headers=print_headers, tablefmt='orgtbl'))\n",
    "\n",
    "#throw an exception in case it breaks\n",
    "except requests.exceptions.Timeout:\n",
    "    print(\"The server didn't respond. Please, try again later.\")"
   ]
  },
  {
   "cell_type": "code",
   "execution_count": null,
   "metadata": {},
   "outputs": [],
   "source": []
  }
 ],
 "metadata": {
  "kernelspec": {
   "display_name": "Python 3",
   "language": "python",
   "name": "python3"
  },
  "language_info": {
   "codemirror_mode": {
    "name": "ipython",
    "version": 3
   },
   "file_extension": ".py",
   "mimetype": "text/x-python",
   "name": "python",
   "nbconvert_exporter": "python",
   "pygments_lexer": "ipython3",
   "version": "3.7.1"
  }
 },
 "nbformat": 4,
 "nbformat_minor": 2
}
