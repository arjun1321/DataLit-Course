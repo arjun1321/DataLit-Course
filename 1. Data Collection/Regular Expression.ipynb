{
 "cells": [
  {
   "cell_type": "markdown",
   "metadata": {},
   "source": [
    "# Regular Expressions"
   ]
  },
  {
   "cell_type": "code",
   "execution_count": 1,
   "metadata": {},
   "outputs": [],
   "source": [
    "# importing the re module for regular expressions\n",
    "\n",
    "import re"
   ]
  },
  {
   "cell_type": "code",
   "execution_count": 2,
   "metadata": {},
   "outputs": [
    {
     "name": "stdout",
     "output_type": "stream",
     "text": [
      "True\n"
     ]
    }
   ],
   "source": [
    "#Let us start with an example\n",
    "txt = \"The rain in Spain\"\n",
    "x = re.search(\"^The.*Spain$\", txt)\n",
    "print(x.string == txt)"
   ]
  },
  {
   "cell_type": "markdown",
   "metadata": {},
   "source": [
    "<h1>RegEx Functions</h1>\n",
    "The Search Function<br>\n",
    "The Substitue Function<br>\n",
    "The Sprilt Function<br>\n",
    "The Find All Fucntion<br>\n",
    "<h3>The Search Function</h3>\n",
    "This function searches for first occurrence of RE pattern within string with optional flags.<br>\n",
    "Here is the syntax for this function −<br>\n",
    "<code>re.search(pattern, string, flags=0)</code><br>\n",
    "Here is the description of the parameters −<br>\n",
    "pattern- This is the regular expression to be matched.<br>\n",
    "string - This is the string, which would be searched to match the pattern anywhere in the string.<br>\n",
    "flags - You can specify different flags using bitwise OR (|). These are modifiers, which are listed in the table below.\n"
   ]
  },
  {
   "cell_type": "code",
   "execution_count": 3,
   "metadata": {},
   "outputs": [
    {
     "name": "stdout",
     "output_type": "stream",
     "text": [
      "The first white-space character is located in position: 3\n"
     ]
    }
   ],
   "source": [
    "#Example\n",
    "string = \"The rain in Spain\"\n",
    "x = re.search(\"\\s\", string)\n",
    "print(\"The first white-space character is located in position:\", x.start())\n"
   ]
  },
  {
   "cell_type": "markdown",
   "metadata": {},
   "source": [
    "# Compiling Regular Expressions\n",
    "Regular expressions are compiled into pattern objects, which have methods for various operations such as searching for pattern\n",
    "matches or performing string substitutions.\n"
   ]
  },
  {
   "cell_type": "code",
   "execution_count": 4,
   "metadata": {},
   "outputs": [
    {
     "data": {
      "text/plain": [
       "re.compile(r'[a-z]+', re.UNICODE)"
      ]
     },
     "execution_count": 4,
     "metadata": {},
     "output_type": "execute_result"
    }
   ],
   "source": [
    "compiler = re.compile('[a-z]+')\n",
    "compiler\n"
   ]
  },
  {
   "cell_type": "markdown",
   "metadata": {},
   "source": [
    "compile function also accepts an optional flags argument,used to enable various special features and syntax variations."
   ]
  },
  {
   "cell_type": "code",
   "execution_count": 5,
   "metadata": {},
   "outputs": [
    {
     "data": {
      "text/plain": [
       "re.compile(r'[a-z]+', re.IGNORECASE|re.UNICODE)"
      ]
     },
     "execution_count": 5,
     "metadata": {},
     "output_type": "execute_result"
    }
   ],
   "source": [
    "compiler = re.compile('[a-z]+',re.IGNORECASE)\n",
    "compiler"
   ]
  },
  {
   "cell_type": "code",
   "execution_count": 6,
   "metadata": {},
   "outputs": [
    {
     "name": "stdout",
     "output_type": "stream",
     "text": [
      "<re.Match object; span=(0, 10), match='Schoolofai'>\n"
     ]
    }
   ],
   "source": [
    "print(compiler.match('Schoolofai'))\n"
   ]
  },
  {
   "cell_type": "markdown",
   "metadata": {},
   "source": [
    "# The Match Function\n",
    "Once you have an object representing a compiled regular expression, what do you do with it? Pattern objects have several methods\n",
    "and attributes. Only the most significant ones will be covered here; consult the re docs for a complete listing.\n",
    "\n",
    "Here is the syntax for this function −\n",
    "\n",
    "<code>re.match(pattern, string, flags=0)</code>\n",
    "\n",
    "Here is the description of the parameters −\n",
    "\n",
    "pattern This is the regular expression to be matched.\n",
    "\n",
    "string This is the string, which would be searched to match the pattern at the beginning of string.\n",
    "\n",
    "flags You can specify different flags using bitwise OR (|). These are modifiers, which are listed in the table below.\n"
   ]
  },
  {
   "cell_type": "code",
   "execution_count": 10,
   "metadata": {},
   "outputs": [
    {
     "name": "stdout",
     "output_type": "stream",
     "text": [
      "matchObj.group() :  Lets teach the machines to learn\n",
      "matchObj.group(1) :  Lets teach\n",
      "matchObj.group(2) :  machines\n"
     ]
    }
   ],
   "source": [
    "line = \"Lets teach the machines to learn\"\n",
    "matchObject = re.match( r'(.*) the (.*?) .*', line, re.M|re.I)\n",
    "if matchObject:\n",
    "    print (\"matchObj.group() : \", matchObject.group())\n",
    "    print (\"matchObj.group(1) : \", matchObject.group(1))\n",
    "    print (\"matchObj.group(2) : \", matchObject.group(2))\n",
    "else:\n",
    "    print (\"No match!!\")\n"
   ]
  },
  {
   "cell_type": "markdown",
   "metadata": {},
   "source": [
    "# The Search Function\n",
    "The search() function searches the string for a match, and returns a Match object if there is a match.\n",
    "\n",
    "If there is more than one match, only the first occurrence of the match will be returned.\n"
   ]
  },
  {
   "cell_type": "code",
   "execution_count": 11,
   "metadata": {},
   "outputs": [
    {
     "name": "stdout",
     "output_type": "stream",
     "text": [
      "The first white-space character is located in position: 3\n"
     ]
    }
   ],
   "source": [
    "string = \"The School of AI\"\n",
    "x = re.search(\"\\s\", string)\n",
    "print(\"The first white-space character is located in position:\", x.start())\n"
   ]
  },
  {
   "cell_type": "markdown",
   "metadata": {},
   "source": [
    "# Match Vs Search\n",
    "Python offers two different primitive operations based on regular expressions: match checks for a match only at the beginning of the\n",
    "string, while search checks for a match anywhere in the string (this is what Perl does by default).\n"
   ]
  },
  {
   "cell_type": "code",
   "execution_count": 13,
   "metadata": {},
   "outputs": [
    {
     "name": "stdout",
     "output_type": "stream",
     "text": [
      "match --> No match!!\n",
      "search --> searchObj.group() :  dogs\n"
     ]
    }
   ],
   "source": [
    "line = \"Cats are smarter than dogs\";\n",
    "matchObj = re.match( r'dogs', line, re.M|re.I)\n",
    "if matchObj:\n",
    "    print (\"match --> matchObj.group() : \", matchObj.group())\n",
    "else:\n",
    "    print (\"match --> No match!!\")\n",
    "    searchObj = re.search( r'dogs', line, re.M|re.I)\n",
    "if searchObj:\n",
    "    print (\"search --> searchObj.group() : \", searchObj.group())\n",
    "else:\n",
    "    print (\"search --> Nothing found!!\")\n"
   ]
  },
  {
   "cell_type": "markdown",
   "metadata": {},
   "source": [
    "# The split() Function\n",
    "The split() function returns a list where the string has been split at each match\n"
   ]
  },
  {
   "cell_type": "code",
   "execution_count": 14,
   "metadata": {},
   "outputs": [
    {
     "name": "stdout",
     "output_type": "stream",
     "text": [
      "[\"Let's\", 'make', 'the', 'machine', 'learn']\n"
     ]
    }
   ],
   "source": [
    "string = \"Let's make the machine learn\"\n",
    "split = re.split(\"\\s\", string)\n",
    "print(split)\n"
   ]
  },
  {
   "cell_type": "markdown",
   "metadata": {},
   "source": [
    "# The substitute sub() Function\n",
    "The sub() function replaces the matches with the text of your choice"
   ]
  },
  {
   "cell_type": "code",
   "execution_count": 15,
   "metadata": {},
   "outputs": [
    {
     "name": "stdout",
     "output_type": "stream",
     "text": [
      "Let's_make_the_machine_learn\n"
     ]
    }
   ],
   "source": [
    "string = \"Let's make the machine learn\"\n",
    "substitute = re.sub(\"\\s\", \"_\", string)\n",
    "print(substitute)\n"
   ]
  },
  {
   "cell_type": "markdown",
   "metadata": {},
   "source": [
    "# The findall() Function\n",
    "The findall() function returns a list containing all matches\n"
   ]
  },
  {
   "cell_type": "code",
   "execution_count": 17,
   "metadata": {},
   "outputs": [
    {
     "name": "stdout",
     "output_type": "stream",
     "text": [
      "['the', 'the']\n"
     ]
    }
   ],
   "source": [
    "string = \"Let's make the machine learn, the school of ai\"\n",
    "alloccurances = re.findall(\"the\", string)\n",
    "print(alloccurances)\n"
   ]
  },
  {
   "cell_type": "code",
   "execution_count": null,
   "metadata": {},
   "outputs": [],
   "source": []
  },
  {
   "cell_type": "code",
   "execution_count": null,
   "metadata": {},
   "outputs": [],
   "source": []
  }
 ],
 "metadata": {
  "kernelspec": {
   "display_name": "Python 3",
   "language": "python",
   "name": "python3"
  },
  "language_info": {
   "codemirror_mode": {
    "name": "ipython",
    "version": 3
   },
   "file_extension": ".py",
   "mimetype": "text/x-python",
   "name": "python",
   "nbconvert_exporter": "python",
   "pygments_lexer": "ipython3",
   "version": "3.7.1"
  }
 },
 "nbformat": 4,
 "nbformat_minor": 2
}
